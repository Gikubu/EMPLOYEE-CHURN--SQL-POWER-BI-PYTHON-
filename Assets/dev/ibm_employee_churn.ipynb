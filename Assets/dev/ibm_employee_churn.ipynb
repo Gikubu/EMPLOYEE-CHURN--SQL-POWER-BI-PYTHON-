{
 "cells": [
  {
   "cell_type": "markdown",
   "metadata": {},
   "source": [
    "## IBM EMPLOYEE CHURN - DATA ANALYSIS AND MACCHINE LEARNING MODEL TRAINING TO PREDICT EMPLOYEE CHURN"
   ]
  },
  {
   "cell_type": "markdown",
   "metadata": {},
   "source": [
    "### PROJECT DESCRIPTION"
   ]
  },
  {
   "cell_type": "markdown",
   "metadata": {},
   "source": [
    "### HYPOTHESIS FORMULATION"
   ]
  },
  {
   "cell_type": "markdown",
   "metadata": {},
   "source": [
    "### BUSINESS QUESTIONS"
   ]
  },
  {
   "cell_type": "markdown",
   "metadata": {},
   "source": [
    "### IMPORT PACKAGES AND LOAD DATA"
   ]
  },
  {
   "cell_type": "code",
   "execution_count": 1,
   "metadata": {},
   "outputs": [],
   "source": [
    "#Import libraries\n",
    "import pandas as pd\n",
    "import numpy as np\n",
    "import matplotlib.pyplot as plt\n",
    "from pylab import rcParams\n",
    "\n",
    "# Import pandas and numpy\n",
    "import pandas as pd\n",
    "import numpy as np\n",
    "\n",
    "# Import statistical packages\n",
    "from scipy.stats import ttest_ind\n",
    "import scipy.stats as stats\n",
    "\n",
    "# Import matplotlib and seaborn\n",
    "import matplotlib.pyplot as plt\n",
    "import seaborn as sns\n",
    "plt.style.use(\"fivethirtyeight\")\n",
    "\n",
    "# Import machine learning models\n",
    "from sklearn.ensemble import GradientBoostingClassifier\n",
    "from sklearn.linear_model import LogisticRegression\n",
    "from sklearn.neural_network import MLPClassifier\n",
    "from sklearn.naive_bayes import GaussianNB\n",
    "from sklearn.neighbors import KNeighborsClassifier\n",
    "from sklearn.tree import DecisionTreeClassifier\n",
    "from sklearn.svm import SVC\n",
    "\n",
    "# Import Pipeline, Scaler,Sampler, train_test_split, imputer\n",
    "from sklearn.pipeline import Pipeline\n",
    "from sklearn.preprocessing import StandardScaler\n",
    "from imblearn.over_sampling import RandomOverSampler\n",
    "from imblearn.under_sampling import RandomUnderSampler\n",
    "from sklearn.model_selection import train_test_split\n",
    "from sklearn.impute import SimpleImputer\n",
    "from imblearn.combine import SMOTEENN \n",
    "\n",
    "# Import Encoders\n",
    "from sklearn.preprocessing import LabelEncoder\n",
    "import category_encoders as ce\n",
    "from category_encoders import BinaryEncoder\n",
    "from sklearn.preprocessing import OrdinalEncoder, OneHotEncoder\n",
    "\n",
    "# import metrics\n",
    "from sklearn.metrics import recall_score, mean_squared_log_error\n",
    "from sklearn.metrics import precision_score, accuracy_score, f1_score \n",
    "from sklearn.model_selection import GridSearchCV, cross_val_predict\n",
    "from sklearn.metrics import average_precision_score, precision_recall_curve\n",
    "from sklearn.metrics import confusion_matrix, classification_report, roc_curve, auc, roc_auc_score \n",
    "\n",
    "import os, pickle, joblib\n",
    "\n",
    "import warnings\n",
    "warnings.filterwarnings('ignore', message='The default value of numeric_only in DataFrame.corr is deprecated')\n",
    "\n",
    "%matplotlib inline"
   ]
  },
  {
   "cell_type": "code",
   "execution_count": 3,
   "metadata": {},
   "outputs": [
    {
     "ename": "SyntaxError",
     "evalue": "unterminated string literal (detected at line 3) (1433913260.py, line 3)",
     "output_type": "error",
     "traceback": [
      "\u001b[1;36m  Cell \u001b[1;32mIn[3], line 3\u001b[1;36m\u001b[0m\n\u001b[1;33m    employee_train  = pd.read_csv(\"C:\\\\Users\\\\elvis_d\\\\DATA_ANALYTICS\\\\GITHUB\\\\IBM EMPLOYEE CHURN ANALYSIS\u001b[0m\n\u001b[1;37m                                  ^\u001b[0m\n\u001b[1;31mSyntaxError\u001b[0m\u001b[1;31m:\u001b[0m unterminated string literal (detected at line 3)\n"
     ]
    }
   ],
   "source": [
    "# Load TraiData\n",
    "\n",
    "employee_train  = pd.read_csv(\"C:\\\\Users\\\\elvis_d\\\\DATA_ANALYTICS\\\\GITHUB\\\\IBM EMPLOYEE CHURN ANALYSIS\\\\EMPLOYEE-CHURN--SQL-POWER-BI-PYTHON-\\\\Datasets\\\\train.csv\")\n",
    "employee_test  = pd.read_csv(\"C:\\\\Users\\\\elvis_d\\\\DATA_ANALYTICS\\\\GITHUB\\\\IBM EMPLOYEE CHURN ANALYSIS\\\\EMPLOYEE-CHURN--SQL-POWER-BI-PYTHON-\\\\Datasets\\\\test.csv\")"
   ]
  },
  {
   "cell_type": "code",
   "execution_count": null,
   "metadata": {},
   "outputs": [],
   "source": []
  }
 ],
 "metadata": {
  "kernelspec": {
   "display_name": "Python 3 (ipykernel)",
   "language": "python",
   "name": "python3"
  },
  "language_info": {
   "codemirror_mode": {
    "name": "ipython",
    "version": 3
   },
   "file_extension": ".py",
   "mimetype": "text/x-python",
   "name": "python",
   "nbconvert_exporter": "python",
   "pygments_lexer": "ipython3",
   "version": "3.11.3"
  }
 },
 "nbformat": 4,
 "nbformat_minor": 2
}
